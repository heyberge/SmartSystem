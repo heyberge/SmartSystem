{
 "cells": [
  {
   "cell_type": "code",
   "execution_count": 3,
   "id": "02f8914d",
   "metadata": {},
   "outputs": [
    {
     "name": "stderr",
     "output_type": "stream",
     "text": [
      "/Users/emileheyberger/opt/anaconda3/lib/python3.9/site-packages/urllib3/connectionpool.py:1043: InsecureRequestWarning: Unverified HTTPS request is being made to host '82.65.155.71'. Adding certificate verification is strongly advised. See: https://urllib3.readthedocs.io/en/1.26.x/advanced-usage.html#ssl-warnings\n",
      "  warnings.warn(\n",
      "/Users/emileheyberger/opt/anaconda3/lib/python3.9/site-packages/urllib3/connectionpool.py:1043: InsecureRequestWarning: Unverified HTTPS request is being made to host '82.65.155.71'. Adding certificate verification is strongly advised. See: https://urllib3.readthedocs.io/en/1.26.x/advanced-usage.html#ssl-warnings\n",
      "  warnings.warn(\n"
     ]
    },
    {
     "name": "stdout",
     "output_type": "stream",
     "text": [
      "[{'name': 'jeedom'}, {'name': '_internal'}]\n",
      "5\n",
      "['time', 'value']\n",
      "                            time     value\n",
      "0      2022-05-26 13:37:06+00:00  1652.181\n",
      "1      2022-05-26 13:38:05+00:00  1648.978\n",
      "2      2022-05-26 13:39:05+00:00  1651.077\n",
      "3      2022-05-26 13:40:05+00:00  1641.309\n",
      "4      2022-05-26 13:41:05+00:00  1630.629\n",
      "...                          ...       ...\n",
      "458536 2023-01-30 14:01:06+00:00   600.993\n",
      "458537 2023-01-30 14:02:04+00:00   613.752\n",
      "458538 2023-01-30 14:05:07+00:00   596.971\n",
      "458539 2023-01-30 14:06:05+00:00   596.090\n",
      "458540 2023-01-30 14:07:06+00:00   591.036\n",
      "\n",
      "[305847 rows x 2 columns]\n"
     ]
    },
    {
     "data": {
      "image/png": "[encoded data removed]",
      "text/plain": [
       "<Figure size 432x288 with 1 Axes>"
      ]
     },
     "metadata": {
      "needs_background": "light"
     },
     "output_type": "display_data"
    }
   ],
   "source": [
    "from http.server import BaseHTTPRequestHandler, HTTPServer\n",
    "import urllib\n",
    "import time\n",
    "from influxdb import InfluxDBClient\n",
    "import sys\n",
    "import csv\n",
    "import pandas as pd\n",
    "import matplotlib.pyplot as plt\n",
    "\n",
    "###########################\n",
    "#    SCRIPT SETTINGS\n",
    "###########################\n",
    "# Set the port where you want the bridge service to run\n",
    "PORT_NUMBER = 1234\n",
    "# InfluxDB Server parameters\n",
    "INFLUXDB_SERVER_IP = '82.65.155.71'\n",
    "INFLUXDB_SERVER_PORT = 8086\n",
    "INFLUXDB_USERNAME = 'eleves'\n",
    "INFLUXDB_PASSWORD = 'SmarthouseG2Elab'\n",
    "INFLUXDB_DB_NAME = 'jeedom'\n",
    "###########################\n",
    "\n",
    "client = InfluxDBClient(INFLUXDB_SERVER_IP, INFLUXDB_SERVER_PORT, INFLUXDB_USERNAME, INFLUXDB_PASSWORD, INFLUXDB_DB_NAME,ssl=True, verify_ssl=False)\n",
    "\n",
    "print(client.get_list_database())\n",
    "\n",
    "client.switch_database('jeedom')\n",
    "\n",
    "datasheet_prod = client.query('SELECT \"value\" FROM \"jeedom\".\"autogen\".\"132725\" WHERE time > now() - 365d')\n",
    "datasheet_conso = client.query('SELECT \"value\" FROM \"jeedom\".\"autogen\".\"5224\" WHERE time > now() - 365d')\n",
    "\n",
    "\n",
    "\n",
    "#print(datasheet)\n",
    "\n",
    "exported_data_prod = list(datasheet_prod.get_points())\n",
    "header_list = list(exported_data[0].keys())\n",
    "\n",
    "with open(\"/Users/emileheyberger/Downloads/smartsystem/dataraw.csv\", \"w\", newline='') as fp:\n",
    "    writer = csv.writer(fp, dialect='excel')\n",
    "#    print(header_list[1:])\n",
    "    value_header = header_list[1]\n",
    "    offset = sum(c.isalpha() for c in value_header)\n",
    "    print(offset)\n",
    "    #header_list[1:] = sorted(header_list[1:], key=lambda x: int(x[offset:]))\n",
    "    header_list[1:] = ['value']\n",
    "    print(header_list)\n",
    "    writer.writerow(header_list)\n",
    "    for line in exported_data:\n",
    "#        print(line)\n",
    "        writer.writerow([line[kn] for kn in header_list])\n",
    "\n",
    "df = pd.read_csv('/Users/emileheyberger/Downloads/smartsystem/dataraw.csv')\n",
    "\n",
    "df['time'] =pd.to_datetime(df['time'])\n",
    "df['time'] = df['time'].dt.floor('s')\n",
    "df.drop_duplicates(inplace=True)\n",
    "\n",
    "x = df['time']\n",
    "#print(x)\n",
    "y = df['value']\n",
    "#print(y)\n",
    "\n",
    "print(df)\n",
    "\n",
    "plt.plot(x,y)\n",
    "\n",
    "# beautify the x-labels\n",
    "plt.gcf().autofmt_xdate()\n",
    "\n",
    "plt.show()\n",
    "\n",
    "df.to_csv('/Users/emileheyberger/Downloads/smartsystem/datadoubleremoved.csv',index=False)\n"
   ]
  },
  {
   "cell_type": "code",
   "execution_count": 12,
   "id": "384e57ee",
   "metadata": {},
   "outputs": [
    {
     "name": "stdout",
     "output_type": "stream",
     "text": [
      "Collecting influxdb\n",
      "  Downloading influxdb-5.3.1-py2.py3-none-any.whl (77 kB)\n",
      "\u001b[K     |████████████████████████████████| 77 kB 1.7 MB/s eta 0:00:011\n",
      "\u001b[?25hRequirement already satisfied: requests>=2.17.0 in /Users/emileheyberger/opt/anaconda3/lib/python3.9/site-packages (from influxdb) (2.27.1)\n",
      "Requirement already satisfied: msgpack in /Users/emileheyberger/opt/anaconda3/lib/python3.9/site-packages (from influxdb) (1.0.2)\n",
      "Requirement already satisfied: six>=1.10.0 in /Users/emileheyberger/opt/anaconda3/lib/python3.9/site-packages (from influxdb) (1.16.0)\n",
      "Requirement already satisfied: python-dateutil>=2.6.0 in /Users/emileheyberger/opt/anaconda3/lib/python3.9/site-packages (from influxdb) (2.8.2)\n",
      "Requirement already satisfied: pytz in /Users/emileheyberger/opt/anaconda3/lib/python3.9/site-packages (from influxdb) (2021.3)\n",
      "Requirement already satisfied: certifi>=2017.4.17 in /Users/emileheyberger/opt/anaconda3/lib/python3.9/site-packages (from requests>=2.17.0->influxdb) (2021.10.8)\n",
      "Requirement already satisfied: urllib3<1.27,>=1.21.1 in /Users/emileheyberger/opt/anaconda3/lib/python3.9/site-packages (from requests>=2.17.0->influxdb) (1.26.9)\n",
      "Requirement already satisfied: idna<4,>=2.5 in /Users/emileheyberger/opt/anaconda3/lib/python3.9/site-packages (from requests>=2.17.0->influxdb) (3.3)\n",
      "Requirement already satisfied: charset-normalizer~=2.0.0 in /Users/emileheyberger/opt/anaconda3/lib/python3.9/site-packages (from requests>=2.17.0->influxdb) (2.0.4)\n",
      "Installing collected packages: influxdb\n",
      "Successfully installed influxdb-5.3.1\n",
      "Note: you may need to restart the kernel to use updated packages.\n"
     ]
    }
   ],
   "source": [
    " pip install influxdb"
   ]
  },
  {
   "cell_type": "code",
   "execution_count": null,
   "id": "2e4cd293",
   "metadata": {},
   "outputs": [],
   "source": []
  },
  {
   "cell_type": "code",
   "execution_count": null,
   "id": "865c4874",
   "metadata": {},
   "outputs": [],
   "source": []
  }
 ],
 "metadata": {
  "kernelspec": {
   "display_name": "Python 3 (ipykernel)",
   "language": "python",
   "name": "python3"
  },
  "language_info": {
   "codemirror_mode": {
    "name": "ipython",
    "version": 3
   },
   "file_extension": ".py",
   "mimetype": "text/x-python",
   "name": "python",
   "nbconvert_exporter": "python",
   "pygments_lexer": "ipython3",
   "version": "3.9.12"
  }
 },
 "nbformat": 4,
 "nbformat_minor": 5
}
